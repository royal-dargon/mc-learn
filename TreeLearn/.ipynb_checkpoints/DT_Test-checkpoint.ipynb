{
 "cells": [
  {
   "cell_type": "code",
   "execution_count": 1,
   "id": "4e7f63b0",
   "metadata": {},
   "outputs": [],
   "source": [
    "import numpy as np\n",
    "import pandas as pd\n",
    "import matplotlib.pyplot as plt\n",
    "%matplotlib inline\n",
    "\n",
    "from sklearn.datasets import load_iris\n",
    "from sklearn.model_selection import train_test_split\n",
    "\n",
    "from collections import Counter\n",
    "import math\n",
    "from math import log\n",
    "\n",
    "import pprint"
   ]
  },
  {
   "cell_type": "code",
   "execution_count": 2,
   "id": "de65f0f0",
   "metadata": {},
   "outputs": [],
   "source": [
    "def create_data():\n",
    "    datasets = [['青年', '否', '否', '一般', '否'],\n",
    "               ['青年', '否', '否', '好', '否'],\n",
    "               ['青年', '是', '否', '好', '是'],\n",
    "               ['青年', '是', '是', '一般', '是'],\n",
    "               ['青年', '否', '否', '一般', '否'],\n",
    "               ['中年', '否', '否', '一般', '否'],\n",
    "               ['中年', '否', '否', '好', '否'],\n",
    "               ['中年', '是', '是', '好', '是'],\n",
    "               ['中年', '否', '是', '非常好', '是'],\n",
    "               ['中年', '否', '是', '非常好', '是'],\n",
    "               ['老年', '否', '是', '非常好', '是'],\n",
    "               ['老年', '否', '是', '好', '是'],\n",
    "               ['老年', '是', '否', '好', '是'],\n",
    "               ['老年', '是', '否', '非常好', '是'],\n",
    "               ['老年', '否', '否', '一般', '否'],\n",
    "               ]\n",
    "    labels = [u'年龄', u'有工作', u'有自己的房子', u'信贷情况', u'类别']\n",
    "    # 返回数据集和每个维度的名称\n",
    "    return datasets, labels"
   ]
  },
  {
   "cell_type": "code",
   "execution_count": 3,
   "id": "c4e3f21c",
   "metadata": {},
   "outputs": [
    {
     "data": {
      "text/html": [
       "<div>\n",
       "<style scoped>\n",
       "    .dataframe tbody tr th:only-of-type {\n",
       "        vertical-align: middle;\n",
       "    }\n",
       "\n",
       "    .dataframe tbody tr th {\n",
       "        vertical-align: top;\n",
       "    }\n",
       "\n",
       "    .dataframe thead th {\n",
       "        text-align: right;\n",
       "    }\n",
       "</style>\n",
       "<table border=\"1\" class=\"dataframe\">\n",
       "  <thead>\n",
       "    <tr style=\"text-align: right;\">\n",
       "      <th></th>\n",
       "      <th>年龄</th>\n",
       "      <th>有工作</th>\n",
       "      <th>有自己的房子</th>\n",
       "      <th>信贷情况</th>\n",
       "      <th>类别</th>\n",
       "    </tr>\n",
       "  </thead>\n",
       "  <tbody>\n",
       "    <tr>\n",
       "      <th>0</th>\n",
       "      <td>青年</td>\n",
       "      <td>否</td>\n",
       "      <td>否</td>\n",
       "      <td>一般</td>\n",
       "      <td>否</td>\n",
       "    </tr>\n",
       "    <tr>\n",
       "      <th>1</th>\n",
       "      <td>青年</td>\n",
       "      <td>否</td>\n",
       "      <td>否</td>\n",
       "      <td>好</td>\n",
       "      <td>否</td>\n",
       "    </tr>\n",
       "    <tr>\n",
       "      <th>2</th>\n",
       "      <td>青年</td>\n",
       "      <td>是</td>\n",
       "      <td>否</td>\n",
       "      <td>好</td>\n",
       "      <td>是</td>\n",
       "    </tr>\n",
       "    <tr>\n",
       "      <th>3</th>\n",
       "      <td>青年</td>\n",
       "      <td>是</td>\n",
       "      <td>是</td>\n",
       "      <td>一般</td>\n",
       "      <td>是</td>\n",
       "    </tr>\n",
       "    <tr>\n",
       "      <th>4</th>\n",
       "      <td>青年</td>\n",
       "      <td>否</td>\n",
       "      <td>否</td>\n",
       "      <td>一般</td>\n",
       "      <td>否</td>\n",
       "    </tr>\n",
       "    <tr>\n",
       "      <th>5</th>\n",
       "      <td>中年</td>\n",
       "      <td>否</td>\n",
       "      <td>否</td>\n",
       "      <td>一般</td>\n",
       "      <td>否</td>\n",
       "    </tr>\n",
       "    <tr>\n",
       "      <th>6</th>\n",
       "      <td>中年</td>\n",
       "      <td>否</td>\n",
       "      <td>否</td>\n",
       "      <td>好</td>\n",
       "      <td>否</td>\n",
       "    </tr>\n",
       "    <tr>\n",
       "      <th>7</th>\n",
       "      <td>中年</td>\n",
       "      <td>是</td>\n",
       "      <td>是</td>\n",
       "      <td>好</td>\n",
       "      <td>是</td>\n",
       "    </tr>\n",
       "    <tr>\n",
       "      <th>8</th>\n",
       "      <td>中年</td>\n",
       "      <td>否</td>\n",
       "      <td>是</td>\n",
       "      <td>非常好</td>\n",
       "      <td>是</td>\n",
       "    </tr>\n",
       "    <tr>\n",
       "      <th>9</th>\n",
       "      <td>中年</td>\n",
       "      <td>否</td>\n",
       "      <td>是</td>\n",
       "      <td>非常好</td>\n",
       "      <td>是</td>\n",
       "    </tr>\n",
       "    <tr>\n",
       "      <th>10</th>\n",
       "      <td>老年</td>\n",
       "      <td>否</td>\n",
       "      <td>是</td>\n",
       "      <td>非常好</td>\n",
       "      <td>是</td>\n",
       "    </tr>\n",
       "    <tr>\n",
       "      <th>11</th>\n",
       "      <td>老年</td>\n",
       "      <td>否</td>\n",
       "      <td>是</td>\n",
       "      <td>好</td>\n",
       "      <td>是</td>\n",
       "    </tr>\n",
       "    <tr>\n",
       "      <th>12</th>\n",
       "      <td>老年</td>\n",
       "      <td>是</td>\n",
       "      <td>否</td>\n",
       "      <td>好</td>\n",
       "      <td>是</td>\n",
       "    </tr>\n",
       "    <tr>\n",
       "      <th>13</th>\n",
       "      <td>老年</td>\n",
       "      <td>是</td>\n",
       "      <td>否</td>\n",
       "      <td>非常好</td>\n",
       "      <td>是</td>\n",
       "    </tr>\n",
       "    <tr>\n",
       "      <th>14</th>\n",
       "      <td>老年</td>\n",
       "      <td>否</td>\n",
       "      <td>否</td>\n",
       "      <td>一般</td>\n",
       "      <td>否</td>\n",
       "    </tr>\n",
       "  </tbody>\n",
       "</table>\n",
       "</div>"
      ],
      "text/plain": [
       "    年龄 有工作 有自己的房子 信贷情况 类别\n",
       "0   青年   否      否   一般  否\n",
       "1   青年   否      否    好  否\n",
       "2   青年   是      否    好  是\n",
       "3   青年   是      是   一般  是\n",
       "4   青年   否      否   一般  否\n",
       "5   中年   否      否   一般  否\n",
       "6   中年   否      否    好  否\n",
       "7   中年   是      是    好  是\n",
       "8   中年   否      是  非常好  是\n",
       "9   中年   否      是  非常好  是\n",
       "10  老年   否      是  非常好  是\n",
       "11  老年   否      是    好  是\n",
       "12  老年   是      否    好  是\n",
       "13  老年   是      否  非常好  是\n",
       "14  老年   否      否   一般  否"
      ]
     },
     "execution_count": 3,
     "metadata": {},
     "output_type": "execute_result"
    }
   ],
   "source": [
    "datasets, labels = create_data()\n",
    "train_data = pd.DataFrame(datasets, columns=labels)\n",
    "train_data"
   ]
  },
  {
   "cell_type": "code",
   "execution_count": 4,
   "id": "b7942b05",
   "metadata": {},
   "outputs": [],
   "source": [
    "d = {'青年':1, '中年':2, '老年':3, '一般':1, '好':2, '非常好':3, '是':0, '否':1}\n",
    "data = []\n",
    "for i in range(15):\n",
    "    tmp = []\n",
    "    t = datasets[i]\n",
    "    for tt in t:\n",
    "        tmp.append(d[tt])\n",
    "    data.append(tmp)"
   ]
  },
  {
   "cell_type": "code",
   "execution_count": 5,
   "id": "db269fef",
   "metadata": {},
   "outputs": [
    {
     "data": {
      "text/plain": [
       "array([[1, 1, 1, 1, 1],\n",
       "       [1, 1, 1, 2, 1],\n",
       "       [1, 0, 1, 2, 0],\n",
       "       [1, 0, 0, 1, 0],\n",
       "       [1, 1, 1, 1, 1],\n",
       "       [2, 1, 1, 1, 1],\n",
       "       [2, 1, 1, 2, 1],\n",
       "       [2, 0, 0, 2, 0],\n",
       "       [2, 1, 0, 3, 0],\n",
       "       [2, 1, 0, 3, 0],\n",
       "       [3, 1, 0, 3, 0],\n",
       "       [3, 1, 0, 2, 0],\n",
       "       [3, 0, 1, 2, 0],\n",
       "       [3, 0, 1, 3, 0],\n",
       "       [3, 1, 1, 1, 1]])"
      ]
     },
     "execution_count": 5,
     "metadata": {},
     "output_type": "execute_result"
    }
   ],
   "source": [
    "data = np.array(data);data"
   ]
  },
  {
   "cell_type": "code",
   "execution_count": 6,
   "id": "a9c77ca2",
   "metadata": {},
   "outputs": [
    {
     "data": {
      "text/plain": [
       "(15, 5)"
      ]
     },
     "execution_count": 6,
     "metadata": {},
     "output_type": "execute_result"
    }
   ],
   "source": [
    "data.shape"
   ]
  },
  {
   "cell_type": "code",
   "execution_count": 7,
   "id": "b6b7632e",
   "metadata": {},
   "outputs": [],
   "source": [
    "X, y = data[:,:-1], data[:, -1]"
   ]
  },
  {
   "cell_type": "code",
   "execution_count": 8,
   "id": "3fa952af",
   "metadata": {},
   "outputs": [],
   "source": [
    "# 熵\n",
    "def entropy(y):\n",
    "    N = len(y)\n",
    "    count = []\n",
    "    for value in set(y):\n",
    "        count.append(len(y[y == value]))\n",
    "    count = np.array(count)\n",
    "    entro = -np.sum((count / N) * (np.log2(count / N)))\n",
    "    return entro"
   ]
  },
  {
   "cell_type": "code",
   "execution_count": 9,
   "id": "26d80ab9",
   "metadata": {},
   "outputs": [
    {
     "data": {
      "text/plain": [
       "0.9709505944546686"
      ]
     },
     "execution_count": 9,
     "metadata": {},
     "output_type": "execute_result"
    }
   ],
   "source": [
    "entropy(y)"
   ]
  },
  {
   "cell_type": "code",
   "execution_count": 10,
   "id": "8353e9db",
   "metadata": {},
   "outputs": [],
   "source": [
    "# 条件熵\n",
    "def cond_entropy(X, y, cond):\n",
    "    N = len(y)\n",
    "    cond_X = X[:, cond]\n",
    "    tmp_entro = []\n",
    "    for val in set(cond_X):\n",
    "        tmp_y = y[np.where(cond_X == val)]\n",
    "        tmp_entro.append(len(tmp_y)/N * entropy(tmp_y))\n",
    "    cond_entro = sum(tmp_entro)\n",
    "    return cond_entro"
   ]
  },
  {
   "cell_type": "code",
   "execution_count": 11,
   "id": "7e19a3e1",
   "metadata": {},
   "outputs": [
    {
     "data": {
      "text/plain": [
       "0.8879430945988998"
      ]
     },
     "execution_count": 11,
     "metadata": {},
     "output_type": "execute_result"
    }
   ],
   "source": [
    "cond_entropy(X, y, 0)"
   ]
  },
  {
   "cell_type": "code",
   "execution_count": 12,
   "id": "bbfb125c",
   "metadata": {},
   "outputs": [],
   "source": [
    "# 信息增益\n",
    "def info_gain(X, y, cond):\n",
    "    return entropy(y) - cond_entropy(X, y, cond)\n",
    "# 信息增益比\n",
    "def info_gain_ratio(X, y, cond):\n",
    "    return (entropy(y) - cond_entropy(X, y, cond))/cond_entropy(X, y, cond)"
   ]
  },
  {
   "cell_type": "code",
   "execution_count": 13,
   "id": "57a413e7",
   "metadata": {},
   "outputs": [
    {
     "data": {
      "text/plain": [
       "0.08300749985576883"
      ]
     },
     "execution_count": 13,
     "metadata": {},
     "output_type": "execute_result"
    }
   ],
   "source": [
    "# A1, A2, A3, A4 =》年龄 工作 房子 信贷\n",
    "# 信息增益\n",
    "\n",
    "gain_a1 = info_gain(X, y, 0);gain_a1"
   ]
  },
  {
   "cell_type": "code",
   "execution_count": 14,
   "id": "b80af08e",
   "metadata": {},
   "outputs": [
    {
     "data": {
      "text/plain": [
       "0.32365019815155627"
      ]
     },
     "execution_count": 14,
     "metadata": {},
     "output_type": "execute_result"
    }
   ],
   "source": [
    "gain_a2 = info_gain(X, y, 1);gain_a2"
   ]
  },
  {
   "cell_type": "code",
   "execution_count": 15,
   "id": "db2b3595",
   "metadata": {},
   "outputs": [
    {
     "data": {
      "text/plain": [
       "0.4199730940219749"
      ]
     },
     "execution_count": 15,
     "metadata": {},
     "output_type": "execute_result"
    }
   ],
   "source": [
    "gain_a3 = info_gain(X, y, 2);gain_a3"
   ]
  },
  {
   "cell_type": "code",
   "execution_count": 16,
   "id": "d7fb9ccd",
   "metadata": {},
   "outputs": [
    {
     "data": {
      "text/plain": [
       "0.36298956253708536"
      ]
     },
     "execution_count": 16,
     "metadata": {},
     "output_type": "execute_result"
    }
   ],
   "source": [
    "gain_a4 = info_gain(X, y, 3);gain_a4"
   ]
  },
  {
   "cell_type": "code",
   "execution_count": 17,
   "id": "927b7cf6",
   "metadata": {},
   "outputs": [],
   "source": [
    "def best_split(X,y, method='info_gain'):\n",
    "    \"\"\"根据method指定的方法使用信息增益或信息增益比来计算各个维度的最大信息增益（比），返回特征的axis\"\"\"\n",
    "    _, M = X.shape\n",
    "    info_gains = []\n",
    "    if method == 'info_gain':\n",
    "        split = info_gain\n",
    "    elif method == 'info_gain_ratio':\n",
    "        split = info_gain_ratio\n",
    "    else:\n",
    "        print('No such method')\n",
    "        return\n",
    "    for i in range(M):\n",
    "        tmp_gain = split(X, y, i)\n",
    "        info_gains.append(tmp_gain)\n",
    "    best_feature = np.argmax(info_gains)\n",
    "    \n",
    "    return best_feature"
   ]
  },
  {
   "cell_type": "code",
   "execution_count": 18,
   "id": "bbf1593c",
   "metadata": {},
   "outputs": [
    {
     "data": {
      "text/plain": [
       "2"
      ]
     },
     "execution_count": 18,
     "metadata": {},
     "output_type": "execute_result"
    }
   ],
   "source": [
    "best_split(X,y)"
   ]
  },
  {
   "cell_type": "code",
   "execution_count": 19,
   "id": "0a2ef875",
   "metadata": {},
   "outputs": [],
   "source": [
    "def majorityCnt(y):\n",
    "    \"\"\"当特征使用完时，返回类别数最多的类别\"\"\"\n",
    "    unique, counts = np.unique(y, return_counts=True)\n",
    "    max_idx = np.argmax(counts)\n",
    "    return unique[max_idx]"
   ]
  },
  {
   "cell_type": "code",
   "execution_count": 20,
   "id": "4fd5f34f",
   "metadata": {},
   "outputs": [
    {
     "data": {
      "text/plain": [
       "0"
      ]
     },
     "execution_count": 20,
     "metadata": {},
     "output_type": "execute_result"
    }
   ],
   "source": [
    "majorityCnt(y)"
   ]
  },
  {
   "cell_type": "code",
   "execution_count": 21,
   "id": "1f48cb9f",
   "metadata": {},
   "outputs": [],
   "source": [
    "class DecisionTreeClassifer:\n",
    "    \"\"\"\n",
    "    决策树生成算法，\n",
    "    method指定ID3或C4.5,两方法唯一不同在于特征选择方法不同\n",
    "    info_gain:       信息增益即ID3\n",
    "    info_gain_ratio: 信息增益比即C4.5\n",
    "    \n",
    "    \n",
    "    \"\"\"\n",
    "    def __init__(self, threshold, method='info_gain'):\n",
    "        self.threshold = threshold\n",
    "        self.method = method\n",
    "        \n",
    "    def fit(self, X, y, labels):\n",
    "        labels = labels.copy()\n",
    "        M, N = X.shape\n",
    "        if len(np.unique(y)) == 1:\n",
    "            return y[0]\n",
    "        \n",
    "        if N == 1:\n",
    "            return majorityCnt(y)\n",
    "        \n",
    "        bestSplit = best_split(X,y, method=self.method)\n",
    "        bestFeaLable = labels[bestSplit]\n",
    "        Tree = {bestFeaLable: {}}\n",
    "        del (labels[bestSplit])\n",
    "        \n",
    "        feaVals = np.unique(X[:, bestSplit])\n",
    "        for val in feaVals:\n",
    "            idx = np.where(X[:, bestSplit] == val)\n",
    "            sub_X = X[idx]\n",
    "            sub_y = y[idx]\n",
    "            sub_labels = labels\n",
    "            Tree[bestFeaLable][val] = self.fit(sub_X, sub_y, sub_labels)\n",
    "            \n",
    "        return Tree"
   ]
  },
  {
   "cell_type": "code",
   "execution_count": null,
   "id": "75671f9a",
   "metadata": {},
   "outputs": [],
   "source": [
    "My_Tree = DecisionTreeClassifer(threshold=0.1)\n",
    "My_Tree.fit(X, y, labels)"
   ]
  }
 ],
 "metadata": {
  "kernelspec": {
   "display_name": "Python 3",
   "language": "python",
   "name": "python3"
  },
  "language_info": {
   "codemirror_mode": {
    "name": "ipython",
    "version": 3
   },
   "file_extension": ".py",
   "mimetype": "text/x-python",
   "name": "python",
   "nbconvert_exporter": "python",
   "pygments_lexer": "ipython3",
   "version": "3.8.8"
  }
 },
 "nbformat": 4,
 "nbformat_minor": 5
}
