{
 "cells": [
  {
   "cell_type": "code",
   "execution_count": 3,
   "id": "36166303",
   "metadata": {},
   "outputs": [
    {
     "name": "stdout",
     "output_type": "stream",
     "text": [
      "0.9814814814814815\n"
     ]
    },
    {
     "data": {
      "text/plain": [
       "'ok.pdf'"
      ]
     },
     "execution_count": 3,
     "metadata": {},
     "output_type": "execute_result"
    }
   ],
   "source": [
    "# This is a sample Python script.\n",
    "\n",
    "# Press Shift+F10 to execute it or replace it with your code.\n",
    "# Press Double Shift to search everywhere for classes, files, tool windows, actions, and settings.\n",
    "\n",
    "\n",
    "from sklearn import tree\n",
    "\n",
    "# datasets 自带的数据\n",
    "from sklearn.datasets import load_wine\n",
    "import pandas as pd\n",
    "from sklearn.model_selection import train_test_split\n",
    "import graphviz\n",
    "\n",
    "wine = load_wine()\n",
    "res = pd.concat([pd.DataFrame(wine.data),pd.DataFrame(wine.target)],axis=1)\n",
    "\n",
    "name = wine.feature_names\n",
    "\n",
    "# 百分之三十是测试集，百分之七十是测试集\n",
    "# 需要注意前面的数据\n",
    "Xtrain, Xtest, Ytrain, Ytest = train_test_split(wine.data,wine.target,test_size=0.3)\n",
    "\n",
    "# 实例化\n",
    "clf = tree.DecisionTreeClassifier(criterion=\"entropy\",\n",
    "                                 max_depth = 3)\n",
    "\n",
    "# 进行训练的接口\n",
    "clf = clf.fit(Xtrain,Ytrain)\n",
    "\n",
    "# 进行打分操作\n",
    "score = clf.score(Xtest,Ytest)\n",
    "\n",
    "print(score)\n",
    "\n",
    "# 下面开始画一棵树\n",
    "\n",
    "# 参数已经训练好的模型，特征的名字\n",
    "feature_name = ['酒精','苹果酸','灰','灰的碱性','镁','总酚','类黄酮','非黄烷类酚类','花青素','颜色强度','色调','葡萄酒','脯氨酸']\n",
    "\n",
    "# filled 表示是否填充颜色\n",
    "# rounded 表示节点的框的形状\n",
    "dot_data = tree.export_graphviz(clf,feature_names= feature_name,\n",
    "                                class_names=[\"清酒\",\"雪梨\",\"贝尔摩德\"]\n",
    "                                ,filled=True\n",
    "                                ,rounded=True\n",
    "                                )\n",
    "\n",
    "graph = graphviz.Source(dot_data)\n",
    "graph.render('ok')"
   ]
  },
  {
   "cell_type": "code",
   "execution_count": null,
   "id": "5d4d3d6b",
   "metadata": {},
   "outputs": [],
   "source": []
  }
 ],
 "metadata": {
  "kernelspec": {
   "display_name": "Python 3",
   "language": "python",
   "name": "python3"
  },
  "language_info": {
   "codemirror_mode": {
    "name": "ipython",
    "version": 3
   },
   "file_extension": ".py",
   "mimetype": "text/x-python",
   "name": "python",
   "nbconvert_exporter": "python",
   "pygments_lexer": "ipython3",
   "version": "3.8.8"
  }
 },
 "nbformat": 4,
 "nbformat_minor": 5
}
