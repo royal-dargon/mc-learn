{
 "cells": [
  {
   "cell_type": "code",
   "execution_count": 4,
   "id": "75bf12c7",
   "metadata": {},
   "outputs": [
    {
     "data": {
      "text/plain": [
       "(2,)"
      ]
     },
     "execution_count": 4,
     "metadata": {},
     "output_type": "execute_result"
    }
   ],
   "source": [
    "# numpy生成数据点\n",
    "import numpy as np\n",
    "from sklearn.tree import DecisionTreeRegressor\n",
    "import matplotlib.pyplot as plt\n",
    "\n",
    "rng = np.random.RandomState(1)\n",
    "x = np.sort(5 * rng.rand(80,1), axis=0)\n",
    "y = np.sin(x).ravel()\n",
    "y[::5] += 3 * (0.5 - rng.rand(16))\n",
    "\n",
    "# np.random.rand(数组结构),生成随机数组的函数\n",
    "np.random.random((2,1))\n",
    "np.random.random((2,1)).ravel()\n",
    "np.random.random((2,1)).ravel().shape"
   ]
  },
  {
   "cell_type": "code",
   "execution_count": null,
   "id": "2b4fbb8d",
   "metadata": {},
   "outputs": [],
   "source": []
  }
 ],
 "metadata": {
  "kernelspec": {
   "display_name": "Python 3",
   "language": "python",
   "name": "python3"
  },
  "language_info": {
   "codemirror_mode": {
    "name": "ipython",
    "version": 3
   },
   "file_extension": ".py",
   "mimetype": "text/x-python",
   "name": "python",
   "nbconvert_exporter": "python",
   "pygments_lexer": "ipython3",
   "version": "3.8.8"
  }
 },
 "nbformat": 4,
 "nbformat_minor": 5
}
